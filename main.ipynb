{
 "cells": [
  {
   "cell_type": "markdown",
   "metadata": {},
   "source": [
    "## Código de vizualização da planilha:"
   ]
  },
  {
   "cell_type": "code",
   "execution_count": null,
   "metadata": {},
   "outputs": [],
   "source": [
    "#Bibliotecas:\n",
    "import pandas as pd\n",
    "\n",
    "#Por favor, substitua o \"'arquivo.xlsx'\" pelo caminho (ou apenas nome) do seu outro arquivo excel:\n",
    "arquivo = 'arquivo.xlsx'\n",
    "\n",
    "dados = pd.read_excel(arquivo)\n",
    "print(dados.head())"
   ]
  },
  {
   "cell_type": "markdown",
   "metadata": {},
   "source": [
    "## Código para somar os elementos de 2 colunas de uma planilha:"
   ]
  },
  {
   "cell_type": "code",
   "execution_count": null,
   "metadata": {},
   "outputs": [],
   "source": [
    "#Bibliotecas:\n",
    "import pandas as pd\n",
    "\n",
    "#Leitor da planilha:\n",
    "dados = pd.read_excel('arquivo.xlsx')\n",
    "\n",
    "#Soma dos elementos das 2 colunas:\n",
    "soma_colunas = dados['Coluna1'] + dados['Coluna2']\n",
    "\n",
    "print(dados.head())"
   ]
  }
 ],
 "metadata": {
  "kernelspec": {
   "display_name": "Python 3",
   "language": "python",
   "name": "python3"
  },
  "language_info": {
   "codemirror_mode": {
    "name": "ipython",
    "version": 3
   },
   "file_extension": ".py",
   "mimetype": "text/x-python",
   "name": "python",
   "nbconvert_exporter": "python",
   "pygments_lexer": "ipython3",
   "version": "3.12.1"
  }
 },
 "nbformat": 4,
 "nbformat_minor": 2
}
